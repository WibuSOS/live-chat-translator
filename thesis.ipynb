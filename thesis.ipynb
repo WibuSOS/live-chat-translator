{
  "nbformat": 4,
  "nbformat_minor": 0,
  "metadata": {
    "colab": {
      "name": "thesis.ipynb",
      "provenance": [],
      "authorship_tag": "ABX9TyO94Ir78aMGJBt24WTx14L7",
      "include_colab_link": true
    },
    "kernelspec": {
      "name": "python3",
      "display_name": "Python 3"
    },
    "accelerator": "GPU"
  },
  "cells": [
    {
      "cell_type": "markdown",
      "metadata": {
        "id": "view-in-github",
        "colab_type": "text"
      },
      "source": [
        "<a href=\"https://colab.research.google.com/github/WibuSOS/live-chat-translator/blob/ai-branch/thesis.ipynb\" target=\"_parent\"><img src=\"https://colab.research.google.com/assets/colab-badge.svg\" alt=\"Open In Colab\"/></a>"
      ]
    },
    {
      "cell_type": "code",
      "metadata": {
        "id": "nLAgoPrDouIB"
      },
      "source": [
        "import unicodedata\r\n",
        "import re\r\n",
        "import math\r\n",
        "import psutil\r\n",
        "import time\r\n",
        "import datetime\r\n",
        "from io import open\r\n",
        "import random\r\n",
        "from random import shuffle\r\n",
        "import argparse\r\n",
        "import numpy as np\r\n",
        "import matplotlib.pyplot as plt\r\n",
        "\r\n",
        "import torch\r\n",
        "from torch.autograd import Variable\r\n",
        "import torch.nn as nn\r\n",
        "import torch.nn.functional as F\r\n",
        "from torch import optim\r\n",
        "import torch.cuda\r\n",
        "\r\n",
        "# this line clears sys to allow for argparse to work as gradient clipper\r\n",
        "import sys; sys.argv=['']; del sys"
      ],
      "execution_count": null,
      "outputs": []
    },
    {
      "cell_type": "code",
      "metadata": {
        "colab": {
          "base_uri": "https://localhost:8080/"
        },
        "id": "XQwcFQcrqk8k",
        "outputId": "67f615cc-c056-4060-e43f-c953192c2bbc"
      },
      "source": [
        "use_cuda = torch.cuda.is_available()\r\n",
        "print(use_cuda)"
      ],
      "execution_count": null,
      "outputs": [
        {
          "output_type": "stream",
          "text": [
            "True\n"
          ],
          "name": "stdout"
        }
      ]
    },
    {
      "cell_type": "code",
      "metadata": {
        "id": "OzdudN4jrkvF"
      },
      "source": [
        "# This function converts a Unicode string to plain ASCII \r\n",
        "# from https://stackoverflow.com/a/518232/2809427\r\n",
        "def uniToAscii(sentence):\r\n",
        "    return ''.join(\r\n",
        "        c for c in unicodedata.normalize('NFD', sentence)\r\n",
        "        if unicodedata.category(c) != 'Mn'\r\n",
        "    )\r\n",
        "\r\n",
        "# Lowercase, trim, and remove non-letter characters (from pytorch)\r\n",
        "def normalizeString(s):\r\n",
        "    s = re.sub(r\" ##AT##-##AT## \", r\" \", s)\r\n",
        "    s = uniToAscii(s.lower().strip())\r\n",
        "    s = re.sub(r\"([.!?])\", r\" \\1\", s)\r\n",
        "    s = re.sub(r\"[^a-zA-Z.!?]+\", r\" \", s)\r\n",
        "    return s\r\n",
        "\r\n",
        "# Denote patterns that sentences must start with to be kept in dataset. \r\n",
        "# Can be changed if desired (from pytorch)\r\n",
        "eng_prefixes = (\r\n",
        "    \"i am \", \"i m \",\r\n",
        "    \"he is\", \"he s \",\r\n",
        "    \"she is\", \"she s\",\r\n",
        "    \"you are\", \"you re \",\r\n",
        "    \"we are\", \"we re \",\r\n",
        "    \"they are\", \"they re \"\r\n",
        ")\r\n",
        "\r\n",
        "# Filters each input-output pair, keeping sentences that are less than max_length \r\n",
        "# if start_filter is true, also filters out sentences that don't start with eng_prefixes\r\n",
        "def filterPair(p, max_length, start_filter):\r\n",
        "    filtered = len(p[0].split(' ')) < max_length and \\\r\n",
        "        len(p[1].split(' ')) < max_length \r\n",
        "    if start_filter:\r\n",
        "        return filtered and p[1].startswith(eng_prefixes)\r\n",
        "    else:\r\n",
        "        return filtered\r\n",
        "\r\n",
        "# Filters all of the input-output language pairs in the dataset using filterPair \r\n",
        "# for each pair (from pytorch)\r\n",
        "def filterPairs(pairs, max_length, start_filter):\r\n",
        "    return [pair for pair in pairs if filterPair(pair, max_length, start_filter)]"
      ],
      "execution_count": null,
      "outputs": []
    },
    {
      "cell_type": "code",
      "metadata": {
        "id": "CUtsoPLVIejU"
      },
      "source": [
        "# start of sentence tag\r\n",
        "SOS_token = 0\r\n",
        "\r\n",
        "# end of sentence tag\r\n",
        "EOS_token = 1\r\n",
        "\r\n",
        "# unknown word tag (this is used to handle words that are not in our Vocabulary)\r\n",
        "UNK_token = 2\r\n",
        "\r\n",
        "# Lang class, used to store the vocabulary of each language\r\n",
        "class Lang:\r\n",
        "    def __init__(self, language):\r\n",
        "        self.language_name = language\r\n",
        "        self.word_to_index = {\"SOS\":SOS_token, \"EOS\":EOS_token, \"<UNK>\":UNK_token}\r\n",
        "        self.word_to_count = {}\r\n",
        "        self.index_to_word = {SOS_token: \"SOS\", EOS_token: \"EOS\", UNK_token: \"<UNK>\"}\r\n",
        "        self.vocab_size = 3\r\n",
        "        self.cutoff_point = -1\r\n",
        "\r\n",
        "    def countSentence(self, sentence):\r\n",
        "        for word in sentence.split(' '):\r\n",
        "            self.countWords(word)\r\n",
        "\r\n",
        "    # counts the number of times each word appears in the dataset\r\n",
        "    def countWords(self, word):\r\n",
        "        if word not in self.word_to_count:\r\n",
        "            self.word_to_count[word] = 1\r\n",
        "        else:\r\n",
        "            self.word_to_count[word] += 1\r\n",
        "\r\n",
        "    # if the number of unique words in the dataset is larger than the\r\n",
        "    # specified max_vocab_size, creates a cutoff point that is used to\r\n",
        "    # leave infrequent words out of the vocabulary\r\n",
        "    def createCutoff(self, max_vocab_size):\r\n",
        "        word_freqs = list(self.word_to_count.values())\r\n",
        "        word_freqs.sort(reverse=True)\r\n",
        "        if len(word_freqs) > max_vocab_size:\r\n",
        "            self.cutoff_point = word_freqs[max_vocab_size]\r\n",
        "\r\n",
        "    # assigns each unique word in a sentence a unique index\r\n",
        "    def addSentence(self, sentence):\r\n",
        "        new_sentence = ''\r\n",
        "        for word in sentence.split(' '):\r\n",
        "            unk_word = self.addWord(word)\r\n",
        "            if not new_sentence:\r\n",
        "                new_sentence =unk_word\r\n",
        "            else:\r\n",
        "                new_sentence = new_sentence + ' ' + unk_word\r\n",
        "        return new_sentence\r\n",
        "\r\n",
        "    # assigns a word a unique index if not already in vocabulary\r\n",
        "    # and it appeaars often enough in the dataset\r\n",
        "    # (self.word_to_count is larger than self.cutoff_point)\r\n",
        "    def addWord(self, word):\r\n",
        "        if self.word_to_count[word] > self.cutoff_point:\r\n",
        "            if word not in self.word_to_index:\r\n",
        "                self.word_to_index[word] = self.vocab_size\r\n",
        "                self.index_to_word[self.vocab_size] = word\r\n",
        "                self.vocab_size += 1\r\n",
        "            return word\r\n",
        "        else:\r\n",
        "            return self.index_to_word[2]"
      ],
      "execution_count": null,
      "outputs": []
    },
    {
      "cell_type": "code",
      "metadata": {
        "id": "lCUpMTUMFyFW"
      },
      "source": [
        "# prepares both the input and output Lang classes from the passed dataset\r\n",
        "def prepareLangs(lang1, lang2, file_path, reverse=False):\r\n",
        "    print(\"Reading lines...\")\r\n",
        "    if len(file_path) == 2:\r\n",
        "        lang1_lines = open(file_path[0], encoding='utf-8').\\\r\n",
        "            read().strip().split('\\n')\r\n",
        "        lang2_lines = open(file_path[1], encoding='utf-8').\\\r\n",
        "            read().strip().split('\\n')\r\n",
        "        if len(lang1_lines) != len(lang2_lines):\r\n",
        "            print(\"Input and output text sizes do not align\")\r\n",
        "            print(\"Number of lang1 lines: %s \" %len(lang1_lines))\r\n",
        "            print(\"Number of lang2 lines: %s \" %len(lang2_lines))\r\n",
        "            quit()\r\n",
        "        pairs = []\r\n",
        "        for line in range(len(lang1_lines)):\r\n",
        "            pairs.append([normalizeString(lang1_lines[line]),\r\n",
        "                          normalizeString(lang2_lines[line])])\r\n",
        "    elif len(file_path) == 1:\r\n",
        "        lines = open(file_path[0], encoding='utf-8').\\\r\n",
        "    \tread().strip().split('\\n')\r\n",
        "        pairs = [[normalizeString(s) for s in l.split('\\t')] for l in lines]\r\n",
        "    if reverse:\r\n",
        "        pairs = [list(reversed(p)) for p in pairs]\r\n",
        "        input_lang = Lang(lang2)\r\n",
        "        output_lang = Lang(lang1)\r\n",
        "    else:\r\n",
        "        input_lang = Lang(lang1)\r\n",
        "        output_lang = Lang(lang2)\r\n",
        "    return input_lang, output_lang, pairs"
      ],
      "execution_count": null,
      "outputs": []
    }
  ]
}