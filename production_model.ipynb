{
  "nbformat": 4,
  "nbformat_minor": 0,
  "metadata": {
    "colab": {
      "name": "production_model.ipynb",
      "provenance": [],
      "authorship_tag": "ABX9TyNXHgDPkFmMOqnK/qRYrZSE",
      "include_colab_link": true
    },
    "kernelspec": {
      "name": "python3",
      "display_name": "Python 3"
    },
    "language_info": {
      "name": "python"
    }
  },
  "cells": [
    {
      "cell_type": "markdown",
      "metadata": {
        "id": "view-in-github",
        "colab_type": "text"
      },
      "source": [
        "<a href=\"https://colab.research.google.com/github/WibuSOS/live-chat-translator/blob/ai-branch/production_model.ipynb\" target=\"_parent\"><img src=\"https://colab.research.google.com/assets/colab-badge.svg\" alt=\"Open In Colab\"/></a>"
      ]
    },
    {
      "cell_type": "code",
      "metadata": {
        "id": "goqVhCo_2LLC"
      },
      "source": [
        "# import unicodedata\n",
        "import re\n",
        "import math\n",
        "from io import open\n",
        "import numpy as np\n",
        "import matplotlib.pyplot as plt\n",
        "import pickle\n",
        "\n",
        "import torch\n",
        "from torch.autograd import Variable\n",
        "import torch.nn as nn\n",
        "import torch.nn.functional as F\n",
        "# import torch.cuda\n",
        "\n",
        "# this line clears sys to allow for argparse to work as gradient clipper\n",
        "import sys; sys.argv=['']; del sys"
      ],
      "execution_count": null,
      "outputs": []
    },
    {
      "cell_type": "code",
      "metadata": {
        "id": "jIL8O0rk66CH"
      },
      "source": [
        "# This function converts a Unicode string to plain ASCII \n",
        "# from https://stackoverflow.com/a/518232/2809427\n",
        "# def uniToAscii(sentence):\n",
        "#     return ''.join(\n",
        "#         c for c in unicodedata.normalize('NFD', sentence)\n",
        "#         if unicodedata.category(c) != 'Mn'\n",
        "#     )\n",
        "\n",
        "# Lowercase, trim, and remove non-letter characters (from pytorch)\n",
        "def normalizeString(s):\n",
        "    s = re.sub(r\" ##AT##-##AT## \", r\" \", s)\n",
        "    s = s.lower().strip()\n",
        "    s = re.sub(r\"([.!?])\", r\" \\1\", s)\n",
        "    s = re.sub(r\"[^a-zA-Z.!?]+\", r\" \", s)\n",
        "    return s"
      ],
      "execution_count": null,
      "outputs": []
    },
    {
      "cell_type": "code",
      "metadata": {
        "id": "-Iw0k3X67SVO"
      },
      "source": [
        "# start of sentence tag\n",
        "SOS_token = 0\n",
        "\n",
        "# end of sentence tag\n",
        "EOS_token = 1\n",
        "\n",
        "# unknown word tag (this is used to handle words that are not in our Vocabulary)\n",
        "UNK_token = 2\n",
        "\n",
        "# Lang class, used to store the vocabulary of each language\n",
        "class Lang:\n",
        "    def __init__(self, language):\n",
        "        self.language_name = language\n",
        "        self.word_to_index = {\"SOS\":SOS_token, \"EOS\":EOS_token, \"<UNK>\":UNK_token}\n",
        "        self.word_to_count = {}\n",
        "        self.index_to_word = {SOS_token: \"SOS\", EOS_token: \"EOS\", UNK_token: \"<UNK>\"}\n",
        "        self.vocab_size = 3\n",
        "        self.cutoff_point = -1\n",
        "\n",
        "    def countSentence(self, sentence):\n",
        "        for word in sentence.split(' '):\n",
        "            self.countWords(word)\n",
        "\n",
        "    # counts the number of times each word appears in the dataset\n",
        "    def countWords(self, word):\n",
        "        if word not in self.word_to_count:\n",
        "            self.word_to_count[word] = 1\n",
        "        else:\n",
        "            self.word_to_count[word] += 1\n",
        "\n",
        "    # if the number of unique words in the dataset is larger than the\n",
        "    # specified max_vocab_size, creates a cutoff point that is used to\n",
        "    # leave infrequent words out of the vocabulary\n",
        "    def createCutoff(self, max_vocab_size):\n",
        "        word_freqs = list(self.word_to_count.values())\n",
        "        word_freqs.sort(reverse=True)\n",
        "        if len(word_freqs) > max_vocab_size:\n",
        "            self.cutoff_point = word_freqs[max_vocab_size]\n",
        "\n",
        "    # assigns each unique word in a sentence a unique index\n",
        "    def addSentence(self, sentence):\n",
        "        new_sentence = ''\n",
        "        for word in sentence.split(' '):\n",
        "            unk_word = self.addWord(word)\n",
        "            if not new_sentence:\n",
        "                new_sentence = unk_word\n",
        "            else:\n",
        "                new_sentence = new_sentence + ' ' + unk_word\n",
        "        return new_sentence\n",
        "\n",
        "    # assigns a word a unique index if not already in vocabulary\n",
        "    # and it appeaars often enough in the dataset\n",
        "    # (self.word_to_count is larger than self.cutoff_point)\n",
        "    def addWord(self, word):\n",
        "        if self.word_to_count[word] > self.cutoff_point:\n",
        "            if word not in self.word_to_index:\n",
        "                self.word_to_index[word] = self.vocab_size\n",
        "                self.index_to_word[self.vocab_size] = word\n",
        "                self.vocab_size += 1\n",
        "            return word\n",
        "        else:\n",
        "            return self.index_to_word[2]"
      ],
      "execution_count": null,
      "outputs": []
    },
    {
      "cell_type": "code",
      "metadata": {
        "id": "fygyn0W0uZ5I"
      },
      "source": [
        "# converts a sentence to one hot encoding vectors - pytorch allows us to just\n",
        "# use the number corresponding to the unique index for that word,\n",
        "# rather than a complete one hot encoding vector for each word\n",
        "\n",
        "def indexesFromSentence(lang, sentence):\n",
        "    indexes = []\n",
        "    for word in sentence.split(' '):\n",
        "        try:\n",
        "            indexes.append(lang.word_to_index[word])\n",
        "        except:\n",
        "            indexes.append(lang.word_to_index[\"<UNK>\"])\n",
        "    return indexes\n",
        "\n",
        "def tensorFromSentence(lang, sentence):\n",
        "    indexes = indexesFromSentence(lang, sentence)\n",
        "    indexes.append(EOS_token)\n",
        "    result = torch.LongTensor(indexes).view(-1)\n",
        "    if use_cuda:\n",
        "        return result.cuda()\n",
        "    else:\n",
        "        return result\n",
        "\n",
        "# converts from tensor of one hot encoding vector indices to sentence\n",
        "# def sentenceFromTensor(lang, tensor):\n",
        "#     raw = tensor.data\n",
        "#     words = []\n",
        "#     for num in raw:\n",
        "#         words.append(lang.index_to_word[num.item()])\n",
        "#     return ' '.join(words)"
      ],
      "execution_count": null,
      "outputs": []
    },
    {
      "cell_type": "code",
      "metadata": {
        "id": "fyH57K0AJPCW"
      },
      "source": [
        "class EncoderRNN(nn.Module):\n",
        "    def __init__(self,input_size,hidden_size,layers=1,dropout=0.1,\n",
        "                bidirectional=True):\n",
        "        super(EncoderRNN, self).__init__()\n",
        "\n",
        "        if bidirectional:\n",
        "            self.directions = 2\n",
        "        else:\n",
        "            self.directions = 1\n",
        "        self.input_size = input_size\n",
        "        self.hidden_size = hidden_size\n",
        "        self.num_layers = layers\n",
        "        self.dropout = dropout\n",
        "        self.embedder = nn.Embedding(input_size,hidden_size)\n",
        "        self.dropout = nn.Dropout(dropout)\n",
        "        self.lstm = nn.LSTM(input_size=hidden_size,hidden_size=hidden_size,\n",
        "                        num_layers=layers,dropout=dropout,\n",
        "                        bidirectional=bidirectional,batch_first=False)\n",
        "        self.fc = nn.Linear(hidden_size*self.directions, hidden_size)\n",
        "\n",
        "    def forward(self, input_data, h_hidden, c_hidden):\n",
        "        embedded_data = self.embedder(input_data)\n",
        "        embedded_data = self.dropout(embedded_data)\n",
        "        hiddens, outputs = self.lstm(embedded_data, (h_hidden, c_hidden))\n",
        "\n",
        "        return hiddens, outputs\n",
        "\n",
        "    # creates initial hidden states for encoder corresponding to batch size\n",
        "    def create_init_hiddens(self, batch_size):\n",
        "        h_hidden = Variable(torch.zeros(self.num_layers*self.directions, \n",
        "                                    batch_size, self.hidden_size))\n",
        "        c_hidden = Variable(torch.zeros(self.num_layers*self.directions, \n",
        "                                    batch_size, self.hidden_size))\n",
        "        \n",
        "        return h_hidden, c_hidden"
      ],
      "execution_count": null,
      "outputs": []
    },
    {
      "cell_type": "code",
      "metadata": {
        "id": "_0QThJ7mJYRo"
      },
      "source": [
        "class DecoderAttn(nn.Module):\n",
        "\tdef __init__(self, hidden_size, output_size, layers=1, dropout=0.1, bidirectional=True):\n",
        "\t\tsuper(DecoderAttn, self).__init__()\n",
        "\n",
        "\t\tif bidirectional:\n",
        "\t\t\tself.directions = 2\n",
        "\t\telse:\n",
        "\t\t\tself.directions = 1\n",
        "\t\tself.output_size = output_size\n",
        "\t\tself.hidden_size = hidden_size\n",
        "\t\tself.num_layers = layers\n",
        "\t\tself.dropout = dropout\n",
        "\t\tself.embedder = nn.Embedding(output_size,hidden_size)\n",
        "\t\tself.dropout = nn.Dropout(dropout)\n",
        "\t\tself.score_learner = nn.Linear(hidden_size*self.directions, \n",
        "                                   hidden_size*self.directions)\n",
        "\t\tself.lstm = nn.LSTM(input_size=hidden_size,hidden_size=hidden_size,\n",
        "                        num_layers=layers,dropout=dropout,\n",
        "                        bidirectional=bidirectional,batch_first=False)\n",
        "\t\tself.context_combiner = nn.Linear((hidden_size*self.directions)\n",
        "                                      +(hidden_size*self.directions), hidden_size)\n",
        "\t\tself.tanh = nn.Tanh()\n",
        "\t\tself.output = nn.Linear(hidden_size, output_size)\n",
        "\t\tself.soft = nn.Softmax(dim=1)\n",
        "\t\tself.log_soft = nn.LogSoftmax(dim=1)\n",
        "\n",
        "\tdef forward(self, input_data, h_hidden, c_hidden, encoder_hiddens):\n",
        "\t\tembedded_data = self.embedder(input_data)\n",
        "\t\tembedded_data = self.dropout(embedded_data)\t\n",
        "\t\tbatch_size = embedded_data.shape[1]\n",
        "\t\thiddens, outputs = self.lstm(embedded_data, (h_hidden, c_hidden))\t\n",
        "\t\ttop_hidden = outputs[0].view(self.num_layers,self.directions,\n",
        "                                 hiddens.shape[1],\n",
        "                                 self.hidden_size)[self.num_layers-1]\n",
        "\t\ttop_hidden = top_hidden.permute(1,2,0).contiguous().view(batch_size,-1,1)\n",
        "\n",
        "\t\tprep_scores = self.score_learner(encoder_hiddens.permute(1,0,2))\n",
        "\t\tscores = torch.bmm(prep_scores, top_hidden)\n",
        "\t\tattn_scores = self.soft(scores)\n",
        "\t\tcon_mat = torch.bmm(encoder_hiddens.permute(1,2,0),attn_scores)\n",
        "\t\th_tilde = self.tanh(self.context_combiner(torch.cat((con_mat,\n",
        "                                                         top_hidden),dim=1)\n",
        "                                              .view(batch_size,-1)))\n",
        "\t\tpred = self.output(h_tilde)\n",
        "\t\tpred = self.log_soft(pred)\n",
        "\n",
        "\t\treturn pred, outputs"
      ],
      "execution_count": null,
      "outputs": []
    },
    {
      "cell_type": "code",
      "metadata": {
        "id": "D9XBtIEnK0Fu"
      },
      "source": [
        "# Returns the predicted translation of a given input sentence. Predicted\n",
        "# translation is trimmed to length of cutoff_length argument\n",
        "\n",
        "def evaluate(encoder, decoder, input_lang, output_lang, sentence, cutoff_length):\n",
        "    with torch.no_grad():\n",
        "        input_variable = tensorFromSentence(input_lang, sentence)\n",
        "        input_variable = input_variable.view(-1,1)\n",
        "\n",
        "        enc_h_hidden, enc_c_hidden = encoder.create_init_hiddens(1)\n",
        "        enc_hiddens, enc_outputs = encoder(input_variable, enc_h_hidden, enc_c_hidden)\n",
        "\n",
        "        decoder_input = Variable(torch.LongTensor(1,1).fill_(output_lang.word_to_index.get(\"SOS\")).cuda()) if use_cuda \\\n",
        "                        else Variable(torch.LongTensor(1,1).fill_(output_lang.word_to_index.get(\"SOS\")))\n",
        "        dec_h_hidden = enc_outputs[0]\n",
        "        dec_c_hidden = enc_outputs[1]\n",
        "\n",
        "        decoded_words = []\n",
        "\n",
        "        for di in range(cutoff_length):\n",
        "            pred, dec_outputs = decoder(decoder_input, dec_h_hidden, dec_c_hidden, enc_hiddens)\n",
        "            topv, topi = pred.topk(1,dim=1)\n",
        "            ni = topi.item()\n",
        "\n",
        "            if ni == output_lang.word_to_index.get(\"EOS\"):\n",
        "                # decoded_words.append('<EOS>')\n",
        "                break\n",
        "            else:\n",
        "                decoded_words.append(output_lang.index_to_word[ni])\n",
        "\n",
        "            decoder_input = Variable(torch.LongTensor(1,1).fill_(ni).cuda()) if use_cuda \\\n",
        "                            else Variable(torch.LongTensor(1,1).fill_(ni))\n",
        "            dec_h_hidden = dec_outputs[0]\n",
        "            dec_c_hidden = dec_outputs[1]\n",
        "\n",
        "        output_sentence = ' '.join(decoded_words)\n",
        "\n",
        "        return output_sentence"
      ],
      "execution_count": null,
      "outputs": []
    },
    {
      "cell_type": "code",
      "metadata": {
        "id": "vMriMtn6NqdU"
      },
      "source": [
        "# HYPERPARAMETERS: FEEL FREE TO PLAY WITH THESE TO TRY TO ACHIEVE BETTER RESULTS\n",
        "\n",
        "# signifies whether the Encoder and Decoder should be bidirectional LSTMs or not\n",
        "bidirectional = True\n",
        "if bidirectional:\n",
        "\tdirections = 2\n",
        "else:\n",
        "\tdirections = 1\n",
        "\n",
        "# number of layers in both the Encoder and Decoder\n",
        "layers = 2\n",
        "\n",
        "# Hidden size of the Encoder and Decoder\n",
        "hidden_size = 600\n",
        "\n",
        "# Dropout value for Encoder and Decoder\n",
        "dropout = 0.6"
      ],
      "execution_count": null,
      "outputs": []
    },
    {
      "cell_type": "code",
      "metadata": {
        "id": "ZlJRMisKNKR7"
      },
      "source": [
        "# LOAD CONFIGURATIONS\n",
        "\n",
        "# Set the common name of the loading files\n",
        "common_file_name = \"testdata.tatoeba_identic_trim.20_vocab.25000_directions.2_layers.4_hidden.100_dropout.0.5_learningrate.1_batch.10_epochs.100\"\n",
        "id_lang = 'id'\n",
        "en_lang = 'en'\n",
        "dataset = 'tatoeba_identic'\n",
        "id_en_directory = ''\n",
        "en_id_directory = ''\n",
        "\n",
        "# Set these configurations if you want to load models from google drive\n",
        "load_from_drive = True\n",
        "if load_from_drive:\n",
        "    common_file_name = \"testdata>tatoeba_identic_trim>20_vocab>25000_directions>2_layers>4_hidden>100_dropout>0.5_learningrate>1_batch>10_epochs>100\"\n",
        "    super_directory = '/content/drive/'\n",
        "    id_en_experiment_directory = 'MyDrive/Kuliah/Thesis/experiment/id_en/'\n",
        "    en_id_experiment_directory = 'MyDrive/Kuliah/Thesis/experiment/en_id/'\n",
        "    id_en_directory = super_directory + id_en_experiment_directory\n",
        "    en_id_directory = super_directory + en_id_experiment_directory\n",
        "\n",
        "# Set the name of the loading files\n",
        "id_vocab_file = id_en_directory + id_lang + '_21484_' + dataset + '_vocab.p'\n",
        "en_vocab_file = id_en_directory + en_lang + '_21731_' + dataset + '_vocab.p'\n",
        "id_en_enc_file = '%s%s_%s_enc_direction_%s_layer_%s_hidden_%s_dropout_%s.pth' % (id_en_directory, id_lang, en_lang, directions, layers, hidden_size, dropout)\n",
        "id_en_dec_file = '%s%s_%s_dec_direction_%s_layer_%s_hidden_%s_dropout_%s.pth' % (id_en_directory, id_lang, en_lang, directions, layers, hidden_size, dropout)\n",
        "en_id_enc_file = '%s%s_%s_enc_direction_%s_layer_%s_hidden_%s_dropout_%s.pth' % (en_id_directory, en_lang, id_lang, directions, layers, hidden_size, dropout)\n",
        "en_id_dec_file = '%s%s_%s_dec_direction_%s_layer_%s_hidden_%s_dropout_%s.pth' % (en_id_directory, en_lang, id_lang, directions, layers, hidden_size, dropout)\n",
        "\n",
        "# Mandatory variables initialization\n",
        "device = torch.device('cpu')\n",
        "# use_cuda = torch.cuda.is_available()\n",
        "use_cuda = False\n",
        "id_vocab = None\n",
        "en_vocab = None\n",
        "id_en_encoder = None\n",
        "id_en_decoder = None\n",
        "en_id_encoder = None\n",
        "en_id_decoder = None"
      ],
      "execution_count": null,
      "outputs": []
    },
    {
      "cell_type": "code",
      "metadata": {
        "id": "id4SDcVSgBcd",
        "colab": {
          "base_uri": "https://localhost:8080/"
        },
        "outputId": "24091ed9-9c19-41b1-ab41-ec6788d75d65"
      },
      "source": [
        "# LOAD FROM DRIVE: OPTIONAL!!!\n",
        "# execute this cell if you want to load models from google drive\n",
        "\n",
        "if load_from_drive:\n",
        "    from google.colab import drive\n",
        "    drive.mount(super_directory)"
      ],
      "execution_count": null,
      "outputs": [
        {
          "output_type": "stream",
          "text": [
            "Mounted at /content/drive/\n"
          ],
          "name": "stdout"
        }
      ]
    },
    {
      "cell_type": "code",
      "metadata": {
        "id": "PFkPTTP664QY"
      },
      "source": [
        "# from google.colab import files\n",
        "# uploaded = files.upload()"
      ],
      "execution_count": null,
      "outputs": []
    },
    {
      "cell_type": "code",
      "metadata": {
        "id": "jsdxuTgiLzVV",
        "colab": {
          "base_uri": "https://localhost:8080/"
        },
        "outputId": "a96a6ab0-4212-49b8-9d54-3c19b3c016ae"
      },
      "source": [
        "# LOAD EVERYTHING\n",
        "\n",
        "id_vocab = pickle.load(open(id_vocab_file,'rb'))\n",
        "en_vocab = pickle.load(open(en_vocab_file,'rb'))\n",
        "\n",
        "id_en_encoder = EncoderRNN(id_vocab.vocab_size, hidden_size, layers=layers, \n",
        "                           dropout=dropout, bidirectional=bidirectional)\n",
        "id_en_decoder = DecoderAttn(hidden_size, en_vocab.vocab_size, layers=layers, \n",
        "                            dropout=dropout, bidirectional=bidirectional)\n",
        "\n",
        "en_id_encoder = EncoderRNN(en_vocab.vocab_size, hidden_size, layers=layers, \n",
        "                           dropout=dropout, bidirectional=bidirectional)\n",
        "en_id_decoder = DecoderAttn(hidden_size, id_vocab.vocab_size, layers=layers, \n",
        "                            dropout=dropout, bidirectional=bidirectional)\n",
        "\n",
        "id_en_encoder.load_state_dict(torch.load(id_en_enc_file, map_location=device))\n",
        "id_en_decoder.load_state_dict(torch.load(id_en_dec_file, map_location=device))\n",
        "\n",
        "en_id_encoder.load_state_dict(torch.load(en_id_enc_file, map_location=device))\n",
        "en_id_decoder.load_state_dict(torch.load(en_id_dec_file, map_location=device))\n",
        "\n",
        "id_en_encoder.eval()\n",
        "id_en_decoder.eval()\n",
        "\n",
        "en_id_encoder.eval()\n",
        "en_id_decoder.eval()"
      ],
      "execution_count": null,
      "outputs": [
        {
          "output_type": "execute_result",
          "data": {
            "text/plain": [
              "DecoderAttn(\n",
              "  (embedder): Embedding(21484, 600)\n",
              "  (dropout): Dropout(p=0.6, inplace=False)\n",
              "  (score_learner): Linear(in_features=1200, out_features=1200, bias=True)\n",
              "  (lstm): LSTM(600, 600, num_layers=2, dropout=0.6, bidirectional=True)\n",
              "  (context_combiner): Linear(in_features=2400, out_features=600, bias=True)\n",
              "  (tanh): Tanh()\n",
              "  (output): Linear(in_features=600, out_features=21484, bias=True)\n",
              "  (soft): Softmax(dim=1)\n",
              "  (log_soft): LogSoftmax(dim=1)\n",
              ")"
            ]
          },
          "metadata": {
            "tags": []
          },
          "execution_count": 12
        }
      ]
    },
    {
      "cell_type": "code",
      "metadata": {
        "id": "-wvlFpDFMXVv",
        "colab": {
          "base_uri": "https://localhost:8080/"
        },
        "outputId": "199ef30f-6927-4b32-90e6-4b7240233768"
      },
      "source": [
        "# Test a sentence outside the dataset\n",
        "running = True\n",
        "while running:\n",
        "    command = input()\n",
        "    if command.lower() == 'e':\n",
        "        running = False\n",
        "    elif command.lower() == 'id_en':\n",
        "        input_sentence = input()\n",
        "        print(evaluate(id_en_encoder, id_en_decoder, id_vocab, en_vocab, normalizeString(input_sentence), cutoff_length=10))\n",
        "    elif command.lower() == 'en_id':\n",
        "        input_sentence = input()\n",
        "        print(evaluate(en_id_encoder, en_id_decoder, en_vocab, id_vocab, normalizeString(input_sentence), cutoff_length=10))"
      ],
      "execution_count": null,
      "outputs": [
        {
          "output_type": "stream",
          "text": [
            "id_en\n",
            "gue\n",
            "\n",
            "en_id\n",
            "bro\n",
            ".\n"
          ],
          "name": "stdout"
        }
      ]
    }
  ]
}